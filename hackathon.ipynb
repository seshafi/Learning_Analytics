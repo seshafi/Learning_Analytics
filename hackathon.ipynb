{
 "cells": [
  {
   "cell_type": "code",
   "execution_count": 1,
   "id": "d3b4416c-31a6-4b11-9f84-ec1183e2b8e4",
   "metadata": {},
   "outputs": [],
   "source": [
    "import pandas as pd\n",
    "import numpy as np"
   ]
  },
  {
   "cell_type": "code",
   "execution_count": 31,
   "id": "e222e053-3c26-4a13-bf32-02c45f02ac67",
   "metadata": {},
   "outputs": [
    {
     "name": "stdout",
     "output_type": "stream",
     "text": [
      "    Topic  Post ID  # of clicks  # of students  Date  Required\n",
      "0     640        1          640             78   640         0\n",
      "1     850        9          850             26   850         0\n",
      "2     990       14          990             73   990         0\n",
      "3      50       13           50             52    50         0\n",
      "4     150       13          150             93   150         0\n",
      "..    ...      ...          ...            ...   ...       ...\n",
      "95    120        4          120             74   120         0\n",
      "96    850        5          850             84   850         0\n",
      "97    460       18          460             10   460         0\n",
      "98    360       18          360             38   360         0\n",
      "99    340        6          340             71   340         0\n",
      "\n",
      "[100 rows x 6 columns]\n"
     ]
    }
   ],
   "source": [
    "row = 100\n",
    "cols = 7\n",
    "\n",
    "# my_dict = {'careers': [1, 2, 3, 4, 5, 6],\n",
    "#            'quiz': [7, 8, 9, 10],\n",
    "\n",
    "Random = np.random.randint(low=0, high=100, size=row)\n",
    "Random2 = np.random.randint(low=0, high=100, size=row)\n",
    "random3 = np.random.randint(low=0, high=1, size=row, dtype=int)\n",
    "post_rand = np.random.randint(low=1, high=20, size=row, dtype=int)\n",
    "\n",
    "\n",
    "df = pd.DataFrame({#'Title': Random, \n",
    "                   'Topic': Random2*10,\n",
    "                   'Post ID': post_rand, \n",
    "                   '# of clicks': Random2*10,\n",
    "                   '# of students': Random, \n",
    "                   'Date': Random2*10,\n",
    "                   'Required': random3})\n",
    "\n",
    "# df = pd.DataFrame(columns = ['Title', 'Topic', 'Post ID','% of clicks','% of students','Date', 'Required'])\n",
    "# df = pd.DataFrame({'angles': [0, 3, 4],\n",
    "#                    'degrees': [360, 180, 360]},\n",
    "print(df)"
   ]
  },
  {
   "cell_type": "code",
   "execution_count": 42,
   "id": "dca3609e-1036-40d1-b08e-cfea35a75d08",
   "metadata": {},
   "outputs": [
    {
     "name": "stdout",
     "output_type": "stream",
     "text": [
      "     course     Topic  Post ID  Required\n",
      "0  DSCI 100  homework        1         1\n",
      "1  STAT 201      quiz        2         0\n",
      "2  DSCI 100    career        3         0\n",
      "3  STAT 201    social        4         1\n",
      "4  DSCI 100    career        5         1\n",
      "5  STAT 201      quiz        6         0\n",
      "6  DSCI 100  homework        7         0\n",
      "7  STAT 201  homework        8         1\n",
      "8  DSCI 100    social        9         0\n",
      "9  STAT 201  homework       10         1\n"
     ]
    }
   ],
   "source": [
    "row = 100\n",
    "cols = 7\n",
    "\n",
    "# my_dict = {'careers': [1, 2, 3, 4, 5, 6],\n",
    "#            'quiz': [7, 8, 9, 10],\n",
    "\n",
    "Random = np.random.randint(low=0, high=100, size=row)\n",
    "Random2 = np.random.randint(low=0, high=100, size=row)\n",
    "random3 = np.random.randint(low=0, high=1, size=row, dtype=int)\n",
    "post_rand = np.random.randint(low=1, high=20, size=row, dtype=int)\n",
    "\n",
    "\n",
    "df = pd.DataFrame({'course': ['DSCI 100','STAT 201', 'DSCI 100','STAT 201','DSCI 100','STAT 201','DSCI 100','STAT 201','DSCI 100','STAT 201',],\n",
    "                    'Topic': ['homework','quiz','career','social','career','quiz','homework','homework','social','homework'],\n",
    "                   'Post ID': [1,2,3,4,5,6,7,8,9,10], \n",
    "                   'Required': [1,0,0,1,1,0,0,1,0,1]})\n",
    "\n",
    "# df = pd.DataFrame(columns = ['Title', 'Topic', 'Post ID','% of clicks','% of students','Date', 'Required'])\n",
    "# df = pd.DataFrame({'angles': [0, 3, 4],\n",
    "#                    'degrees': [360, 180, 360]},\n",
    "print(df)"
   ]
  },
  {
   "cell_type": "code",
   "execution_count": 41,
   "id": "aa11e4da-bdab-4532-b5bc-6c7d5cdc2ac1",
   "metadata": {},
   "outputs": [
    {
     "data": {
      "text/html": [
       "<div>\n",
       "<style scoped>\n",
       "    .dataframe tbody tr th:only-of-type {\n",
       "        vertical-align: middle;\n",
       "    }\n",
       "\n",
       "    .dataframe tbody tr th {\n",
       "        vertical-align: top;\n",
       "    }\n",
       "\n",
       "    .dataframe thead th {\n",
       "        text-align: right;\n",
       "    }\n",
       "</style>\n",
       "<table border=\"1\" class=\"dataframe\">\n",
       "  <thead>\n",
       "    <tr style=\"text-align: right;\">\n",
       "      <th></th>\n",
       "      <th>Post ID</th>\n",
       "      <th>Date</th>\n",
       "      <th>unique clicks</th>\n",
       "    </tr>\n",
       "  </thead>\n",
       "  <tbody>\n",
       "    <tr>\n",
       "      <th>0</th>\n",
       "      <td>1</td>\n",
       "      <td>dec1</td>\n",
       "      <td>5</td>\n",
       "    </tr>\n",
       "    <tr>\n",
       "      <th>1</th>\n",
       "      <td>2</td>\n",
       "      <td>dec1</td>\n",
       "      <td>2</td>\n",
       "    </tr>\n",
       "    <tr>\n",
       "      <th>2</th>\n",
       "      <td>3</td>\n",
       "      <td>dec1</td>\n",
       "      <td>7</td>\n",
       "    </tr>\n",
       "    <tr>\n",
       "      <th>3</th>\n",
       "      <td>4</td>\n",
       "      <td>dec1</td>\n",
       "      <td>6</td>\n",
       "    </tr>\n",
       "    <tr>\n",
       "      <th>4</th>\n",
       "      <td>5</td>\n",
       "      <td>dec1</td>\n",
       "      <td>9</td>\n",
       "    </tr>\n",
       "    <tr>\n",
       "      <th>5</th>\n",
       "      <td>6</td>\n",
       "      <td>dec1</td>\n",
       "      <td>0</td>\n",
       "    </tr>\n",
       "    <tr>\n",
       "      <th>6</th>\n",
       "      <td>7</td>\n",
       "      <td>dec1</td>\n",
       "      <td>1</td>\n",
       "    </tr>\n",
       "    <tr>\n",
       "      <th>7</th>\n",
       "      <td>8</td>\n",
       "      <td>dec1</td>\n",
       "      <td>5</td>\n",
       "    </tr>\n",
       "    <tr>\n",
       "      <th>8</th>\n",
       "      <td>9</td>\n",
       "      <td>dec1</td>\n",
       "      <td>3</td>\n",
       "    </tr>\n",
       "    <tr>\n",
       "      <th>9</th>\n",
       "      <td>10</td>\n",
       "      <td>dec1</td>\n",
       "      <td>70</td>\n",
       "    </tr>\n",
       "  </tbody>\n",
       "</table>\n",
       "</div>"
      ],
      "text/plain": [
       "   Post ID  Date  unique clicks\n",
       "0        1  dec1              5\n",
       "1        2  dec1              2\n",
       "2        3  dec1              7\n",
       "3        4  dec1              6\n",
       "4        5  dec1              9\n",
       "5        6  dec1              0\n",
       "6        7  dec1              1\n",
       "7        8  dec1              5\n",
       "8        9  dec1              3\n",
       "9       10  dec1             70"
      ]
     },
     "execution_count": 41,
     "metadata": {},
     "output_type": "execute_result"
    }
   ],
   "source": [
    "df2 = pd.DataFrame({'Post ID': [1,2,3,4,5,6,7,8,9,10], \n",
    "                   'Date': ['dec1', 'dec1', 'dec1', 'dec1','dec1', 'dec1','dec1', 'dec1','dec1', 'dec1'],\n",
    "                   'unique clicks': [5, 2, 7, 6, 9, 0, 1, 5, 3, 70]})\n",
    "df2"
   ]
  },
  {
   "cell_type": "code",
   "execution_count": 49,
   "id": "8c4540b9-5127-4be8-a9c0-f42d29a3e68d",
   "metadata": {},
   "outputs": [
    {
     "data": {
      "text/plain": [
       "DatetimeIndex(['2022-10-17', '2022-10-18', '2022-10-19', '2022-10-20',\n",
       "               '2022-10-21', '2022-10-22', '2022-10-23', '2022-10-24',\n",
       "               '2022-10-25', '2022-10-26', '2022-10-27', '2022-10-28',\n",
       "               '2022-10-29', '2022-10-30', '2022-10-31', '2022-11-01',\n",
       "               '2022-11-02', '2022-11-03', '2022-11-04', '2022-11-05',\n",
       "               '2022-11-06', '2022-11-07', '2022-11-08', '2022-11-09',\n",
       "               '2022-11-10', '2022-11-11', '2022-11-12', '2022-11-13',\n",
       "               '2022-11-14', '2022-11-15', '2022-11-16', '2022-11-17'],\n",
       "              dtype='datetime64[ns]', freq='D')"
      ]
     },
     "execution_count": 49,
     "metadata": {},
     "output_type": "execute_result"
    }
   ],
   "source": [
    "import datetime \n",
    "\n",
    "date_list = pd.date_range(\"2022-10-17\", \"2022-11-17\", freq='D')\n",
    "date_list"
   ]
  },
  {
   "cell_type": "code",
   "execution_count": null,
   "id": "9359ab46-4a4d-410c-9e11-7cfc4e279749",
   "metadata": {},
   "outputs": [],
   "source": []
  }
 ],
 "metadata": {
  "kernelspec": {
   "display_name": "Python [conda env:base]",
   "language": "python",
   "name": "conda-base-py"
  },
  "language_info": {
   "codemirror_mode": {
    "name": "ipython",
    "version": 3
   },
   "file_extension": ".py",
   "mimetype": "text/x-python",
   "name": "python",
   "nbconvert_exporter": "python",
   "pygments_lexer": "ipython3",
   "version": "3.11.9"
  }
 },
 "nbformat": 4,
 "nbformat_minor": 5
}
